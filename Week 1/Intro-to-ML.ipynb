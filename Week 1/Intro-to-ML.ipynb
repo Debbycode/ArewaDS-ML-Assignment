{
 "cells": [
  {
   "cell_type": "markdown",
   "metadata": {},
   "source": [
    "# The Way Machine That Learns "
   ]
  },
  {
   "cell_type": "markdown",
   "metadata": {},
   "source": [
    "### 1.   Introduction"
   ]
  },
  {
   "cell_type": "markdown",
   "metadata": {},
   "source": [
    "Machine learning uses specialized algorithm to unravel meaningful insight and find patterns from perceived data to validate rational decision-making process. The way that the human brain learns and makes decision is the same way that the machine learning learns. It is therefore imperative to understand how the human brain learns. \n",
    "\n",
    "The human brain is curious from childhood to adulthood. At childhood, a child perceives their surroundings and learns gradually, hidden patterns of life to and create a meaning out of it. This learning process helps the child to continuosly learn patterns and progressively enlarging their capacity to continue to learn. This continues through to adulthood and then throughout their lifetime. The adulthood brain behaves intelligently by first getting informaton from the the external world around him, analyze the information and makes rational decisions based on the perceived information.The child's brain learns from his surronding and craft rules while innovating on these learned patterns. Likewise, adult brain makes rational decisions based on learned information from the past to predict the future. This is the benchmark for machine learning: machine is programmed with rules to learn hidden patterns from data to aid in making predict outcomes.\n",
    "\n",
    "The influx of data from many sources, has made it imperative to develop adavanced means to process these high inflow of data. As a result, Machine learning, considering its advanced potential algorithm, has been explored to in various field to solve the multi-facated real life problems. Fields such as Medicine, Meterology, Forensic, Economics, Finance, Oil and Gas etc."
   ]
  },
  {
   "cell_type": "markdown",
   "metadata": {},
   "source": [
    "### 1.1    Why the Confusion: Artificial Intelligence, Machine Learning and Deep Learning and Data Science."
   ]
  },
  {
   "cell_type": "markdown",
   "metadata": {},
   "source": [
    "Artificial Intelligence is an umbrella term for intelligence and embodies both machine learning and deep learning. In other words, machine learning and deep learning is a subset of Machine Learning. Artificial intelligence also embodies an aspect of data science. Hence, with data science we use stattiscal methods to get insight  from data."
   ]
  },
  {
   "cell_type": "markdown",
   "metadata": {},
   "source": [
    "In conclusion, artificial intelligence behaves as the human brain and make intelligent decisions. In the near future, the understanding of machine learning basics will be required as the application becomes more widespread."
   ]
  },
  {
   "cell_type": "markdown",
   "metadata": {},
   "source": [
    "### 2. Where It all Began"
   ]
  },
  {
   "cell_type": "markdown",
   "metadata": {},
   "source": [
    "The history of machine that learns dates back to the 1950s when Alan Turing layed the foundation. Dartmouth Summer in the 1956 coined the term artificial intelligence and the optimism to apply these innovation of these began from the 1956s until the mid 70s. In the 1980, the expansion of Artificail intelligence became apaent with the proliferation of expert systems - variants of AI. \n",
    "\n",
    "Modern AI began with the the democratization of the computing where personal computer were on the rise between 1987 and 1993. The challenge with not sufficient data became a thing of the past as the amount of data began to rapidly increase and become readily available with the advent of samrtphone around 2007. As a AI and ML were able to solve more complex problems. In recent times and presently, AI has been applied to almost every aspect of human lives and every field. The implication of the rapid development, however, is that the fundamental human right of persons might be infringed upon. Regulation therefore has to be put in place by the tech companies and government, to develop policies and laws guiding acceptable uses."
   ]
  },
  {
   "cell_type": "code",
   "execution_count": null,
   "metadata": {},
   "outputs": [],
   "source": []
  }
 ],
 "metadata": {
  "kernelspec": {
   "display_name": "Python 3",
   "language": "python",
   "name": "python3"
  },
  "language_info": {
   "codemirror_mode": {
    "name": "ipython",
    "version": 3
   },
   "file_extension": ".py",
   "mimetype": "text/x-python",
   "name": "python",
   "nbconvert_exporter": "python",
   "pygments_lexer": "ipython3",
   "version": "3.7.6"
  }
 },
 "nbformat": 4,
 "nbformat_minor": 4
}
